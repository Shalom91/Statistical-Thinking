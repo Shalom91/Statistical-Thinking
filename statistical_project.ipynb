{
 "cells": [
  {
   "cell_type": "markdown",
   "metadata": {},
   "source": [
    "# STATISTICAL T"
   ]
  },
  {
   "cell_type": "markdown",
   "metadata": {},
   "source": [
    "In the next series of challenges, we will predict employee salaries from different employee characteristics (or features). We ask employees working in four different fields to state their salary and some background information."
   ]
  },
  {
   "cell_type": "markdown",
   "metadata": {},
   "source": [
    "#### Load Required Libraries"
   ]
  },
  {
   "cell_type": "code",
   "execution_count": 1,
   "metadata": {},
   "outputs": [],
   "source": [
    "# load modules\n",
    "import pandas as pd\n",
    "import matplotlib.pyplot as plt\n",
    "import seaborn as sns\n",
    "import numpy as np\n",
    "from scipy import stats\n"
   ]
  },
  {
   "cell_type": "markdown",
   "metadata": {},
   "source": [
    "#### 1. How many responders are there? Are there any missing values in any of the variables?"
   ]
  },
  {
   "cell_type": "code",
   "execution_count": 2,
   "metadata": {},
   "outputs": [
    {
     "name": "stdout",
     "output_type": "stream",
     "text": [
      "<class 'pandas.core.frame.DataFrame'>\n",
      "RangeIndex: 514 entries, 0 to 513\n",
      "Data columns (total 11 columns):\n",
      "salary         513 non-null float64\n",
      "exprior        514 non-null int64\n",
      "yearsworked    514 non-null int64\n",
      "yearsrank      514 non-null int64\n",
      "market         514 non-null float64\n",
      "degree         514 non-null int64\n",
      "otherqual      514 non-null int64\n",
      "position       514 non-null int64\n",
      "male           514 non-null int64\n",
      "Field          514 non-null int64\n",
      "yearsabs       514 non-null int64\n",
      "dtypes: float64(2), int64(9)\n",
      "memory usage: 44.3 KB\n"
     ]
    }
   ],
   "source": [
    "df = pd.read_csv(\"salary.csv\")\n",
    "x = df.info()\n",
    "x1 = df.isnull().sum()"
   ]
  },
  {
   "cell_type": "markdown",
   "metadata": {},
   "source": [
    "From the above table we can deduce there are 514 entries."
   ]
  },
  {
   "cell_type": "code",
   "execution_count": 3,
   "metadata": {},
   "outputs": [
    {
     "data": {
      "text/plain": [
       "salary         1\n",
       "exprior        0\n",
       "yearsworked    0\n",
       "yearsrank      0\n",
       "market         0\n",
       "degree         0\n",
       "otherqual      0\n",
       "position       0\n",
       "male           0\n",
       "Field          0\n",
       "yearsabs       0\n",
       "dtype: int64"
      ]
     },
     "execution_count": 3,
     "metadata": {},
     "output_type": "execute_result"
    }
   ],
   "source": [
    "x1"
   ]
  },
  {
   "cell_type": "markdown",
   "metadata": {},
   "source": [
    "From the above table we can deduce the Salary has one missing value."
   ]
  },
  {
   "cell_type": "markdown",
   "metadata": {},
   "source": [
    "#### 2. What is the lowest salary and highest salary in the group?"
   ]
  },
  {
   "cell_type": "code",
   "execution_count": 4,
   "metadata": {},
   "outputs": [
    {
     "name": "stdout",
     "output_type": "stream",
     "text": [
      "The lowest salary is 29000.0\n",
      "The highest salary is 96156.0\n"
     ]
    }
   ],
   "source": [
    "salary = df[\"salary\"]\n",
    "lowest_salary = min(salary)\n",
    "highest_salary = max(salary)\n",
    "print(\"The lowest salary is {}\".format(lowest_salary))\n",
    "print(\"The highest salary is {}\".format(highest_salary))"
   ]
  },
  {
   "cell_type": "markdown",
   "metadata": {},
   "source": [
    "#### 3.What is the mean salary for the sample? Include the standard error of the mean."
   ]
  },
  {
   "cell_type": "code",
   "execution_count": 5,
   "metadata": {
    "scrolled": true
   },
   "outputs": [
    {
     "name": "stdout",
     "output_type": "stream",
     "text": [
      "The mean salary is 50863.22\n",
      "The standard error is 560.06\n"
     ]
    }
   ],
   "source": [
    "mean_salary = np.mean(salary) # mean\n",
    "std_error_salary = stats.sem(salary, nan_policy=\"omit\") # standard error\n",
    "\n",
    "mean_salary = round(mean_salary, 2)\n",
    "std_error_salary = round(std_error_salary, 2)\n",
    "print(\"The mean salary is {}\".format(mean_salary))\n",
    "print(\"The standard error is {}\".format(std_error_salary))"
   ]
  },
  {
   "cell_type": "markdown",
   "metadata": {},
   "source": [
    "#### 4. What is the standard deviation for the years worked?"
   ]
  },
  {
   "cell_type": "code",
   "execution_count": 6,
   "metadata": {},
   "outputs": [
    {
     "name": "stdout",
     "output_type": "stream",
     "text": [
      "The standard deviation is 9.435503224576884\n"
     ]
    }
   ],
   "source": [
    "yearsworked = df[\"yearsworked\"]\n",
    "std_yearworked = np.std(yearsworked)\n",
    "\n",
    "print(\"The standard deviation is {}\".format(std_yearworked))"
   ]
  },
  {
   "cell_type": "markdown",
   "metadata": {},
   "source": [
    "#### 5. What is the median salary for the sample?"
   ]
  },
  {
   "cell_type": "code",
   "execution_count": 7,
   "metadata": {},
   "outputs": [
    {
     "name": "stdout",
     "output_type": "stream",
     "text": [
      "The median is: 50096.0\n"
     ]
    }
   ],
   "source": [
    "median_salary = np.nanmedian(salary)\n",
    "print(\"The median is: {}\".format(median_salary))"
   ]
  },
  {
   "cell_type": "markdown",
   "metadata": {},
   "source": [
    "#### 6. What is the interquartile range for salary in the sample?"
   ]
  },
  {
   "cell_type": "code",
   "execution_count": 8,
   "metadata": {
    "scrolled": true
   },
   "outputs": [
    {
     "name": "stdout",
     "output_type": "stream",
     "text": [
      "40000.0\n",
      "60345.0\n",
      "IQR: 20345.0\n"
     ]
    }
   ],
   "source": [
    "q1 = np.nanpercentile(salary, 25)\n",
    "q3 = np.nanpercentile(salary, 75)\n",
    "IQR = q3 - q1\n",
    "print(q1)\n",
    "print(q3)\n",
    "print(\"IQR: {}\".format(IQR))"
   ]
  },
  {
   "cell_type": "markdown",
   "metadata": {},
   "source": [
    "The 1st quartile is 40 000, the median is 50 096 and the 3rd quartile is 60 345.This means that 25% of salaries are less than 40 000, 25% lie between 40 000 and 50096 & 25% are between 50096 and 60345.\n",
    "\n"
   ]
  },
  {
   "cell_type": "markdown",
   "metadata": {},
   "source": [
    "#### 7. How many men are there in the sample? How many women are there in the sample? Present this information in a table."
   ]
  },
  {
   "cell_type": "code",
   "execution_count": 9,
   "metadata": {},
   "outputs": [
    {
     "name": "stdout",
     "output_type": "stream",
     "text": [
      "Yes    386\n",
      "No     128\n",
      "Name: male, dtype: int64\n"
     ]
    }
   ],
   "source": [
    "# encode the the variable male appropriately\n",
    "clean_male = {\"male\": {0:\"No\", 1:\"Yes\"}}\n",
    "df.replace(clean_male, inplace=True)\n",
    "\n",
    "male = df[\"male\"]\n",
    "x = df[\"male\"].value_counts()\n",
    "print(x)"
   ]
  },
  {
   "cell_type": "markdown",
   "metadata": {},
   "source": [
    "There are 386 males and 128 females."
   ]
  },
  {
   "cell_type": "markdown",
   "metadata": {},
   "source": [
    "#### 8. How many women are executives compared to men?"
   ]
  },
  {
   "cell_type": "code",
   "execution_count": 10,
   "metadata": {},
   "outputs": [
    {
     "data": {
      "text/html": [
       "<div>\n",
       "<style scoped>\n",
       "    .dataframe tbody tr th:only-of-type {\n",
       "        vertical-align: middle;\n",
       "    }\n",
       "\n",
       "    .dataframe tbody tr th {\n",
       "        vertical-align: top;\n",
       "    }\n",
       "\n",
       "    .dataframe thead th {\n",
       "        text-align: right;\n",
       "    }\n",
       "</style>\n",
       "<table border=\"1\" class=\"dataframe\">\n",
       "  <thead>\n",
       "    <tr style=\"text-align: right;\">\n",
       "      <th>male</th>\n",
       "      <th>No</th>\n",
       "      <th>Yes</th>\n",
       "    </tr>\n",
       "    <tr>\n",
       "      <th>position</th>\n",
       "      <th></th>\n",
       "      <th></th>\n",
       "    </tr>\n",
       "  </thead>\n",
       "  <tbody>\n",
       "    <tr>\n",
       "      <th>Executive</th>\n",
       "      <td>19</td>\n",
       "      <td>192</td>\n",
       "    </tr>\n",
       "    <tr>\n",
       "      <th>Junior Employee</th>\n",
       "      <td>60</td>\n",
       "      <td>83</td>\n",
       "    </tr>\n",
       "    <tr>\n",
       "      <th>Manager</th>\n",
       "      <td>49</td>\n",
       "      <td>111</td>\n",
       "    </tr>\n",
       "  </tbody>\n",
       "</table>\n",
       "</div>"
      ],
      "text/plain": [
       "male             No  Yes\n",
       "position                \n",
       "Executive        19  192\n",
       "Junior Employee  60   83\n",
       "Manager          49  111"
      ]
     },
     "execution_count": 10,
     "metadata": {},
     "output_type": "execute_result"
    }
   ],
   "source": [
    "# encode the variable position appropriately\n",
    "clean_position = {\"position\": {1:\"Junior Employee\", 2:\"Manager\", 3:\"Executive\"}}\n",
    "df.replace(clean_position, inplace=True)\n",
    "\n",
    "# create a frequency table\n",
    "position_gender_table = pd.crosstab(index=df['position'], \n",
    "                               columns=df['male'])\n",
    "# display the frequency table\n",
    "position_gender_table"
   ]
  },
  {
   "cell_type": "markdown",
   "metadata": {},
   "source": [
    "There are 19 female executives compared to 192 male executives. In other words female executives make up approximately 10% of male executives."
   ]
  },
  {
   "cell_type": "markdown",
   "metadata": {},
   "source": [
    "#### 9. Create a histogram for the variable Salary."
   ]
  },
  {
   "cell_type": "code",
   "execution_count": 11,
   "metadata": {},
   "outputs": [
    {
     "name": "stderr",
     "output_type": "stream",
     "text": [
      "/home/recruit/.local/lib/python3.6/site-packages/numpy/lib/histograms.py:839: RuntimeWarning: invalid value encountered in greater_equal\n",
      "  keep = (tmp_a >= first_edge)\n",
      "/home/recruit/.local/lib/python3.6/site-packages/numpy/lib/histograms.py:840: RuntimeWarning: invalid value encountered in less_equal\n",
      "  keep &= (tmp_a <= last_edge)\n"
     ]
    },
    {
     "data": {
      "image/png": "[encoded data removed]",
      "text/plain": [
       "<Figure size 432x288 with 1 Axes>"
      ]
     },
     "metadata": {
      "needs_background": "light"
     },
     "output_type": "display_data"
    }
   ],
   "source": [
    "bins = np.sqrt(len(salary)) # \"Square Root Rule\" - rule of thumb for choosing  number of bins\n",
    "bins = int(bins) # convert to integer\n",
    "\n",
    "salary_hist = plt.hist(salary, bins=bins)\n",
    "salary_hist = plt.xlabel(\"Salary\")\n",
    "salary_hist = plt.ylabel(\"count\")\n",
    "salary_hist = plt.title(\"Salary Histogram\")\n",
    "\n",
    "plt.show()"
   ]
  },
  {
   "cell_type": "markdown",
   "metadata": {},
   "source": [
    "#### 10. Examine the histogram and describe the distribution for Salary."
   ]
  },
  {
   "cell_type": "markdown",
   "metadata": {},
   "source": [
    "The typical salary earned is about 40 000. Salaries between 55 000 and 60 000 are also quite frequent and there is an extremely low number of people who earn salaries in the range of 80 000 and 90 000. Due to the large amount of people who earn low salaries, the histogram is skewed to the left."
   ]
  },
  {
   "cell_type": "markdown",
   "metadata": {},
   "source": [
    "#### 11. Create a bar graph to show the different average salaries of men and women. (Bonus: Add error bars to the bars showing the 95% confidence interval). What does the graph tell you about the difference between men and women’s salaries?"
   ]
  },
  {
   "cell_type": "code",
   "execution_count": 12,
   "metadata": {},
   "outputs": [
    {
     "data": {
      "image/png": "[encoded data removed]",
      "text/plain": [
       "<Figure size 432x288 with 1 Axes>"
      ]
     },
     "metadata": {
      "needs_background": "light"
     },
     "output_type": "display_data"
    }
   ],
   "source": [
    "\n",
    "mean = df.groupby('male')['salary'].mean()\n",
    "std = df.groupby('male')['salary'].std()\n",
    "\n",
    "# Using 2 * std to estimate the 95 % interval\n",
    "\"\"\"In a normal distribution, the interval [μ - 2σ, μ + 2σ] covers 95.5 %, \n",
    "so you can use 2 * std to estimate the 95 % interval:\"\"\"\n",
    "_ = plt.bar(male, salary)\n",
    "_ = plt.errorbar(mean.index, mean, yerr=2*std, linestyle='', color=\"red\")\n",
    "_ = plt.xlabel(\"Male\")\n",
    "_ = plt.ylabel(\"Salary\")\n",
    "_ = plt.title(\"Gender vs Salary\")\n",
    "\n",
    "\n",
    "plt.show()\n"
   ]
  },
  {
   "cell_type": "markdown",
   "metadata": {},
   "source": [
    "The above graph shows that on average, males earn a higher salary than females. However, the error bar for the average salary of males overlaps that of females which suggests that within a 95% confidence interval, the difference between the average salaries of males and females is not statistically significant."
   ]
  },
  {
   "cell_type": "markdown",
   "metadata": {},
   "source": [
    "#### 12. Create a scatterplot with seaborn showing the relationship between Years Worked and Salary (don’t forget to insert a trend line)."
   ]
  },
  {
   "cell_type": "code",
   "execution_count": 13,
   "metadata": {},
   "outputs": [
    {
     "data": {
      "image/png": "[encoded data removed]",
      "text/plain": [
       "<Figure size 360x360 with 1 Axes>"
      ]
     },
     "metadata": {
      "needs_background": "light"
     },
     "output_type": "display_data"
    }
   ],
   "source": [
    "_ = sns.lmplot(\"yearsworked\", \"salary\", data=df, fit_reg=True)\n",
    "_ = plt.xlabel(\"Years Worked\")\n",
    "_ = plt.ylabel(\"Salary\")\n",
    "_ = plt.title(\"Years Worked vs Salary\")"
   ]
  },
  {
   "cell_type": "markdown",
   "metadata": {},
   "source": [
    "We have a positive sloping scatter plot, which indicates that as the number of years worked increases, the amount of salary earned tends to increase as well. There are a few outlier datapoints that don't follow the general trend. This could mean that some individuals earn a lot more income even though they have a lot less number of years worked beacause they occupy high-value positions where there is a high demand of scarce skills and qualifications."
   ]
  },
  {
   "cell_type": "markdown",
   "metadata": {},
   "source": [
    "#### 13. Using the pearsonr function from the scipy.stats package, calculate the Pearson correlation coefficient (and its corresponding p value) to determine the nature of the relationship between Years Worked and Salary."
   ]
  },
  {
   "cell_type": "code",
   "execution_count": 14,
   "metadata": {},
   "outputs": [
    {
     "data": {
      "text/plain": [
       "(0.6231354820920552, 1.2747795189693407e-56)"
      ]
     },
     "execution_count": 14,
     "metadata": {},
     "output_type": "execute_result"
    }
   ],
   "source": [
    "# replace missing value with mean\n",
    "df['salary']=df.fillna(df[\"salary\"].mean())\n",
    "\n",
    "# calculate correlation coefficient and corresponding p-value\n",
    "cc_pvalue =stats.pearsonr(df.yearsworked, df.salary)\n",
    "\n",
    "cc_pvalue"
   ]
  },
  {
   "cell_type": "markdown",
   "metadata": {},
   "source": [
    "The correlation coefficient which represents the strength and direction of the relationship between Years Worked and Salary is approximately 0.61. This indicates that there is a positve and moderate linear relationship between Years Worked and Salary earned.\n",
    "\n",
    "This p-value (4.765231027448406e-53) is less than any reasonable significance level. Consequently, we can reject the null hypothesis and conclude that the relationship is statistically significant."
   ]
  }
 ],
 "metadata": {
  "kernelspec": {
   "display_name": "Python 3",
   "language": "python",
   "name": "python3"
  },
  "language_info": {
   "codemirror_mode": {
    "name": "ipython",
    "version": 3
   },
   "file_extension": ".py",
   "mimetype": "text/x-python",
   "name": "python",
   "nbconvert_exporter": "python",
   "pygments_lexer": "ipython3",
   "version": "3.6.9"
  }
 },
 "nbformat": 4,
 "nbformat_minor": 2
}
